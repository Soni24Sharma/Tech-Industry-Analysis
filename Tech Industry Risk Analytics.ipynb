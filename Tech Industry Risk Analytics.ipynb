{
 "cells": [
  {
   "cell_type": "markdown",
   "id": "c2240626-2a37-4356-ab62-57ea21ea0e9f",
   "metadata": {},
   "source": [
    "# Risk Analytics\n",
    "\n",
    "---\n",
    "\n",
    "## Tech Industry\n",
    "\n",
    "- **Apple**\n",
    "- **Microsoft**\n",
    "- **Google**"
   ]
  },
  {
   "cell_type": "code",
   "execution_count": 1,
   "id": "4d0dccfa-b117-4d19-86ec-3d4edae7aedc",
   "metadata": {
    "executionCancelledAt": null,
    "executionTime": 2034,
    "lastExecutedAt": 1735829047544,
    "lastExecutedByKernel": "df19b915-b282-4fb1-9610-184657d2c393",
    "lastScheduledRunId": null,
    "lastSuccessfullyExecutedCode": "import numpy as np\nimport pandas as pd\nimport yfinance as yf\nimport plotly.express as px\nimport matplotlib.pyplot as plt\nfrom datetime import datetime"
   },
   "outputs": [],
   "source": [
    "import numpy as np\n",
    "import pandas as pd\n",
    "import yfinance as yf\n",
    "import plotly.express as px\n",
    "import matplotlib.pyplot as plt\n",
    "from datetime import datetime"
   ]
  },
  {
   "cell_type": "code",
   "execution_count": 2,
   "id": "1d053a37-37ae-4460-b0c2-4020e61f7ee2",
   "metadata": {
    "executionCancelledAt": null,
    "executionTime": 11,
    "lastExecutedAt": 1735829048657,
    "lastExecutedByKernel": "df19b915-b282-4fb1-9610-184657d2c393",
    "lastScheduledRunId": null,
    "lastSuccessfullyExecutedCode": "# Dictionary of top tech companies and their stock symbols\ntech_companies = {\n    \"Apple\": \"AAPL\",\n    \"Microsoft\": \"MSFT\",\n    \"Google\": \"GOOGL\"\n}"
   },
   "outputs": [],
   "source": [
    "# Dictionary of top tech companies and their stock symbols\n",
    "tech_companies = {\n",
    "    \"Apple\": \"AAPL\",\n",
    "    \"Microsoft\": \"MSFT\",\n",
    "    \"Google\": \"GOOGL\"\n",
    "}"
   ]
  },
  {
   "cell_type": "code",
   "execution_count": 3,
   "id": "17417206-4a87-4a42-acae-b9b43243d9d2",
   "metadata": {
    "executionCancelledAt": null,
    "executionTime": 694,
    "lastExecutedAt": 1735829051560,
    "lastExecutedByKernel": "df19b915-b282-4fb1-9610-184657d2c393",
    "lastScheduledRunId": null,
    "lastSuccessfullyExecutedCode": "# Fetch historical market data for the past 5 years\ntickers = list(tech_companies.values())\nmarket_data = yf.download(tickers, period=\"5y\", interval=\"1d\")",
    "outputsMetadata": {
     "0": {
      "height": 38,
      "type": "stream"
     }
    }
   },
   "outputs": [
    {
     "name": "stderr",
     "output_type": "stream",
     "text": [
      "[*********************100%%**********************]  3 of 3 completed\n"
     ]
    }
   ],
   "source": [
    "# Fetch historical market data for the past 5 years\n",
    "tickers = list(tech_companies.values())\n",
    "market_data = yf.download(tickers, period=\"5y\", interval=\"1d\")"
   ]
  },
  {
   "cell_type": "code",
   "execution_count": 4,
   "id": "498da976-f9bc-41da-a8fe-0659ff4e1995",
   "metadata": {
    "executionCancelledAt": null,
    "executionTime": 42,
    "lastExecutedAt": 1735829054895,
    "lastExecutedByKernel": "df19b915-b282-4fb1-9610-184657d2c393",
    "lastScheduledRunId": null,
    "lastSuccessfullyExecutedCode": "market_data = pd.DataFrame(market_data)\nmarket_data.head()",
    "outputsMetadata": {
     "0": {
      "height": 50,
      "tableState": {
       "customFilter": {
        "const": {
         "type": "boolean",
         "valid": true,
         "value": true
        },
        "id": "23a6959a-de7c-43f0-84d7-b30f80d913df",
        "nodeType": "const"
       },
       "quickFilterText": ""
      },
      "type": "dataFrame"
     }
    }
   },
   "outputs": [
    {
     "data": {
      "application/com.datacamp.data-table.v2+json": {
       "table": {
        "data": {
         "('Adj Close', 'AAPL')": [
          72.7960281372,
          72.0883026123,
          72.6627197266,
          72.3209686279,
          73.4843521118
         ],
         "('Adj Close', 'GOOGL')": [
          68.1868209839,
          67.8301086426,
          69.638053894,
          69.5035476685,
          69.9982452393
         ],
         "('Adj Close', 'MSFT')": [
          153.9382171631,
          152.0213928223,
          152.4143218994,
          151.0246734619,
          153.4302825928
         ],
         "('Close', 'AAPL')": [
          75.0875015259,
          74.3574981689,
          74.9499969482,
          74.5975036621,
          75.7975006104
         ],
         "('Close', 'GOOGL')": [
          68.4339981079,
          68.0759963989,
          69.8905029297,
          69.7555007935,
          70.2519989014
         ],
         "('Close', 'MSFT')": [
          160.6199951172,
          158.6199951172,
          159.0299987793,
          157.5800018311,
          160.0899963379
         ],
         "('Date', '')": [
          "2020-01-02T00:00:00.000",
          "2020-01-03T00:00:00.000",
          "2020-01-06T00:00:00.000",
          "2020-01-07T00:00:00.000",
          "2020-01-08T00:00:00.000"
         ],
         "('High', 'AAPL')": [
          75.1500015259,
          75.1449966431,
          74.9899978638,
          75.2249984741,
          76.1100006104
         ],
         "('High', 'GOOGL')": [
          68.4339981079,
          68.6875,
          69.9160003662,
          70.1750030518,
          70.5924987793
         ],
         "('High', 'MSFT')": [
          160.7299957275,
          159.9499969482,
          159.1000061035,
          159.6699981689,
          160.8000030518
         ],
         "('Low', 'AAPL')": [
          73.7975006104,
          74.125,
          73.1875,
          74.3700027466,
          74.2900009155
         ],
         "('Low', 'GOOGL')": [
          67.3245010376,
          67.3659973145,
          67.5500030518,
          69.5780029297,
          69.6315002441
         ],
         "('Low', 'MSFT')": [
          158.3300018311,
          158.0599975586,
          156.5099945068,
          157.3200073242,
          157.9499969482
         ],
         "('Open', 'AAPL')": [
          74.0599975586,
          74.2874984741,
          73.4475021362,
          74.9599990845,
          74.2900009155
         ],
         "('Open', 'GOOGL')": [
          67.420501709,
          67.4000015259,
          67.5814971924,
          70.0230026245,
          69.7409973145
         ],
         "('Open', 'MSFT')": [
          158.7799987793,
          158.3200073242,
          157.0800018311,
          159.3200073242,
          158.9299926758
         ],
         "('Volume', 'AAPL')": [
          135480400,
          146322800,
          118387200,
          108872000,
          132079200
         ],
         "('Volume', 'GOOGL')": [
          27278000,
          23408000,
          46768000,
          34330000,
          35314000
         ],
         "('Volume', 'MSFT')": [
          22622100,
          21116200,
          20813700,
          21634100,
          27746500
         ]
        },
        "schema": {
         "fields": [
          {
           "name": "Date",
           "type": "datetime"
          },
          {
           "name": "('Adj Close', 'AAPL')",
           "type": "number"
          },
          {
           "name": "('Adj Close', 'GOOGL')",
           "type": "number"
          },
          {
           "name": "('Adj Close', 'MSFT')",
           "type": "number"
          },
          {
           "name": "('Close', 'AAPL')",
           "type": "number"
          },
          {
           "name": "('Close', 'GOOGL')",
           "type": "number"
          },
          {
           "name": "('Close', 'MSFT')",
           "type": "number"
          },
          {
           "name": "('High', 'AAPL')",
           "type": "number"
          },
          {
           "name": "('High', 'GOOGL')",
           "type": "number"
          },
          {
           "name": "('High', 'MSFT')",
           "type": "number"
          },
          {
           "name": "('Low', 'AAPL')",
           "type": "number"
          },
          {
           "name": "('Low', 'GOOGL')",
           "type": "number"
          },
          {
           "name": "('Low', 'MSFT')",
           "type": "number"
          },
          {
           "name": "('Open', 'AAPL')",
           "type": "number"
          },
          {
           "name": "('Open', 'GOOGL')",
           "type": "number"
          },
          {
           "name": "('Open', 'MSFT')",
           "type": "number"
          },
          {
           "name": "('Volume', 'AAPL')",
           "type": "integer"
          },
          {
           "name": "('Volume', 'GOOGL')",
           "type": "integer"
          },
          {
           "name": "('Volume', 'MSFT')",
           "type": "integer"
          }
         ],
         "pandas_version": "1.4.0",
         "primaryKey": [
          "Date"
         ]
        }
       },
       "total_rows": 5,
       "truncation_type": null
      },
      "text/html": [
       "<div>\n",
       "<style scoped>\n",
       "    .dataframe tbody tr th:only-of-type {\n",
       "        vertical-align: middle;\n",
       "    }\n",
       "\n",
       "    .dataframe tbody tr th {\n",
       "        vertical-align: top;\n",
       "    }\n",
       "\n",
       "    .dataframe thead tr th {\n",
       "        text-align: left;\n",
       "    }\n",
       "\n",
       "    .dataframe thead tr:last-of-type th {\n",
       "        text-align: right;\n",
       "    }\n",
       "</style>\n",
       "<table border=\"1\" class=\"dataframe\">\n",
       "  <thead>\n",
       "    <tr>\n",
       "      <th>Price</th>\n",
       "      <th colspan=\"3\" halign=\"left\">Adj Close</th>\n",
       "      <th colspan=\"3\" halign=\"left\">Close</th>\n",
       "      <th colspan=\"3\" halign=\"left\">High</th>\n",
       "      <th colspan=\"3\" halign=\"left\">Low</th>\n",
       "      <th colspan=\"3\" halign=\"left\">Open</th>\n",
       "      <th colspan=\"3\" halign=\"left\">Volume</th>\n",
       "    </tr>\n",
       "    <tr>\n",
       "      <th>Ticker</th>\n",
       "      <th>AAPL</th>\n",
       "      <th>GOOGL</th>\n",
       "      <th>MSFT</th>\n",
       "      <th>AAPL</th>\n",
       "      <th>GOOGL</th>\n",
       "      <th>MSFT</th>\n",
       "      <th>AAPL</th>\n",
       "      <th>GOOGL</th>\n",
       "      <th>MSFT</th>\n",
       "      <th>AAPL</th>\n",
       "      <th>GOOGL</th>\n",
       "      <th>MSFT</th>\n",
       "      <th>AAPL</th>\n",
       "      <th>GOOGL</th>\n",
       "      <th>MSFT</th>\n",
       "      <th>AAPL</th>\n",
       "      <th>GOOGL</th>\n",
       "      <th>MSFT</th>\n",
       "    </tr>\n",
       "    <tr>\n",
       "      <th>Date</th>\n",
       "      <th></th>\n",
       "      <th></th>\n",
       "      <th></th>\n",
       "      <th></th>\n",
       "      <th></th>\n",
       "      <th></th>\n",
       "      <th></th>\n",
       "      <th></th>\n",
       "      <th></th>\n",
       "      <th></th>\n",
       "      <th></th>\n",
       "      <th></th>\n",
       "      <th></th>\n",
       "      <th></th>\n",
       "      <th></th>\n",
       "      <th></th>\n",
       "      <th></th>\n",
       "      <th></th>\n",
       "    </tr>\n",
       "  </thead>\n",
       "  <tbody>\n",
       "    <tr>\n",
       "      <th>2020-01-02</th>\n",
       "      <td>72.796028</td>\n",
       "      <td>68.186821</td>\n",
       "      <td>153.938217</td>\n",
       "      <td>75.087502</td>\n",
       "      <td>68.433998</td>\n",
       "      <td>160.619995</td>\n",
       "      <td>75.150002</td>\n",
       "      <td>68.433998</td>\n",
       "      <td>160.729996</td>\n",
       "      <td>73.797501</td>\n",
       "      <td>67.324501</td>\n",
       "      <td>158.330002</td>\n",
       "      <td>74.059998</td>\n",
       "      <td>67.420502</td>\n",
       "      <td>158.779999</td>\n",
       "      <td>135480400</td>\n",
       "      <td>27278000</td>\n",
       "      <td>22622100</td>\n",
       "    </tr>\n",
       "    <tr>\n",
       "      <th>2020-01-03</th>\n",
       "      <td>72.088303</td>\n",
       "      <td>67.830109</td>\n",
       "      <td>152.021393</td>\n",
       "      <td>74.357498</td>\n",
       "      <td>68.075996</td>\n",
       "      <td>158.619995</td>\n",
       "      <td>75.144997</td>\n",
       "      <td>68.687500</td>\n",
       "      <td>159.949997</td>\n",
       "      <td>74.125000</td>\n",
       "      <td>67.365997</td>\n",
       "      <td>158.059998</td>\n",
       "      <td>74.287498</td>\n",
       "      <td>67.400002</td>\n",
       "      <td>158.320007</td>\n",
       "      <td>146322800</td>\n",
       "      <td>23408000</td>\n",
       "      <td>21116200</td>\n",
       "    </tr>\n",
       "    <tr>\n",
       "      <th>2020-01-06</th>\n",
       "      <td>72.662720</td>\n",
       "      <td>69.638054</td>\n",
       "      <td>152.414322</td>\n",
       "      <td>74.949997</td>\n",
       "      <td>69.890503</td>\n",
       "      <td>159.029999</td>\n",
       "      <td>74.989998</td>\n",
       "      <td>69.916000</td>\n",
       "      <td>159.100006</td>\n",
       "      <td>73.187500</td>\n",
       "      <td>67.550003</td>\n",
       "      <td>156.509995</td>\n",
       "      <td>73.447502</td>\n",
       "      <td>67.581497</td>\n",
       "      <td>157.080002</td>\n",
       "      <td>118387200</td>\n",
       "      <td>46768000</td>\n",
       "      <td>20813700</td>\n",
       "    </tr>\n",
       "    <tr>\n",
       "      <th>2020-01-07</th>\n",
       "      <td>72.320969</td>\n",
       "      <td>69.503548</td>\n",
       "      <td>151.024673</td>\n",
       "      <td>74.597504</td>\n",
       "      <td>69.755501</td>\n",
       "      <td>157.580002</td>\n",
       "      <td>75.224998</td>\n",
       "      <td>70.175003</td>\n",
       "      <td>159.669998</td>\n",
       "      <td>74.370003</td>\n",
       "      <td>69.578003</td>\n",
       "      <td>157.320007</td>\n",
       "      <td>74.959999</td>\n",
       "      <td>70.023003</td>\n",
       "      <td>159.320007</td>\n",
       "      <td>108872000</td>\n",
       "      <td>34330000</td>\n",
       "      <td>21634100</td>\n",
       "    </tr>\n",
       "    <tr>\n",
       "      <th>2020-01-08</th>\n",
       "      <td>73.484352</td>\n",
       "      <td>69.998245</td>\n",
       "      <td>153.430283</td>\n",
       "      <td>75.797501</td>\n",
       "      <td>70.251999</td>\n",
       "      <td>160.089996</td>\n",
       "      <td>76.110001</td>\n",
       "      <td>70.592499</td>\n",
       "      <td>160.800003</td>\n",
       "      <td>74.290001</td>\n",
       "      <td>69.631500</td>\n",
       "      <td>157.949997</td>\n",
       "      <td>74.290001</td>\n",
       "      <td>69.740997</td>\n",
       "      <td>158.929993</td>\n",
       "      <td>132079200</td>\n",
       "      <td>35314000</td>\n",
       "      <td>27746500</td>\n",
       "    </tr>\n",
       "  </tbody>\n",
       "</table>\n",
       "</div>"
      ],
      "text/plain": [
       "Price       Adj Close                         ...     Volume                    \n",
       "Ticker           AAPL      GOOGL        MSFT  ...       AAPL     GOOGL      MSFT\n",
       "Date                                          ...                               \n",
       "2020-01-02  72.796028  68.186821  153.938217  ...  135480400  27278000  22622100\n",
       "2020-01-03  72.088303  67.830109  152.021393  ...  146322800  23408000  21116200\n",
       "2020-01-06  72.662720  69.638054  152.414322  ...  118387200  46768000  20813700\n",
       "2020-01-07  72.320969  69.503548  151.024673  ...  108872000  34330000  21634100\n",
       "2020-01-08  73.484352  69.998245  153.430283  ...  132079200  35314000  27746500\n",
       "\n",
       "[5 rows x 18 columns]"
      ]
     },
     "execution_count": 4,
     "metadata": {},
     "output_type": "execute_result"
    }
   ],
   "source": [
    "market_data = pd.DataFrame(market_data)\n",
    "market_data.head()"
   ]
  },
  {
   "cell_type": "code",
   "execution_count": 12,
   "id": "56cffa3d-4b60-4b08-b3b2-ca8fcb4511ec",
   "metadata": {
    "executionCancelledAt": null,
    "executionTime": 18,
    "lastExecutedAt": 1735829131077,
    "lastExecutedByKernel": "df19b915-b282-4fb1-9610-184657d2c393",
    "lastScheduledRunId": null,
    "lastSuccessfullyExecutedCode": "prices = market_data['Adj Close']\nprices.head()",
    "outputsMetadata": {
     "0": {
      "height": 50,
      "tableState": {
       "customFilter": {
        "const": {
         "type": "boolean",
         "valid": true,
         "value": true
        },
        "id": "23a6959a-de7c-43f0-84d7-b30f80d913df",
        "nodeType": "const"
       },
       "quickFilterText": ""
      },
      "type": "dataFrame"
     }
    }
   },
   "outputs": [
    {
     "data": {
      "application/com.datacamp.data-table.v2+json": {
       "table": {
        "data": {
         "AAPL": [
          72.7960281372,
          72.0883026123,
          72.6627197266,
          72.3209686279,
          73.4843521118
         ],
         "Date": [
          "2020-01-02T00:00:00.000",
          "2020-01-03T00:00:00.000",
          "2020-01-06T00:00:00.000",
          "2020-01-07T00:00:00.000",
          "2020-01-08T00:00:00.000"
         ],
         "GOOGL": [
          68.1868209839,
          67.8301086426,
          69.638053894,
          69.5035476685,
          69.9982452393
         ],
         "MSFT": [
          153.9382171631,
          152.0213928223,
          152.4143218994,
          151.0246734619,
          153.4302825928
         ]
        },
        "schema": {
         "fields": [
          {
           "name": "Date",
           "type": "datetime"
          },
          {
           "name": "AAPL",
           "type": "number"
          },
          {
           "name": "GOOGL",
           "type": "number"
          },
          {
           "name": "MSFT",
           "type": "number"
          }
         ],
         "pandas_version": "1.4.0",
         "primaryKey": [
          "Date"
         ]
        }
       },
       "total_rows": 5,
       "truncation_type": null
      },
      "text/html": [
       "<div>\n",
       "<style scoped>\n",
       "    .dataframe tbody tr th:only-of-type {\n",
       "        vertical-align: middle;\n",
       "    }\n",
       "\n",
       "    .dataframe tbody tr th {\n",
       "        vertical-align: top;\n",
       "    }\n",
       "\n",
       "    .dataframe thead th {\n",
       "        text-align: right;\n",
       "    }\n",
       "</style>\n",
       "<table border=\"1\" class=\"dataframe\">\n",
       "  <thead>\n",
       "    <tr style=\"text-align: right;\">\n",
       "      <th>Ticker</th>\n",
       "      <th>AAPL</th>\n",
       "      <th>GOOGL</th>\n",
       "      <th>MSFT</th>\n",
       "    </tr>\n",
       "    <tr>\n",
       "      <th>Date</th>\n",
       "      <th></th>\n",
       "      <th></th>\n",
       "      <th></th>\n",
       "    </tr>\n",
       "  </thead>\n",
       "  <tbody>\n",
       "    <tr>\n",
       "      <th>2020-01-02</th>\n",
       "      <td>72.796028</td>\n",
       "      <td>68.186821</td>\n",
       "      <td>153.938217</td>\n",
       "    </tr>\n",
       "    <tr>\n",
       "      <th>2020-01-03</th>\n",
       "      <td>72.088303</td>\n",
       "      <td>67.830109</td>\n",
       "      <td>152.021393</td>\n",
       "    </tr>\n",
       "    <tr>\n",
       "      <th>2020-01-06</th>\n",
       "      <td>72.662720</td>\n",
       "      <td>69.638054</td>\n",
       "      <td>152.414322</td>\n",
       "    </tr>\n",
       "    <tr>\n",
       "      <th>2020-01-07</th>\n",
       "      <td>72.320969</td>\n",
       "      <td>69.503548</td>\n",
       "      <td>151.024673</td>\n",
       "    </tr>\n",
       "    <tr>\n",
       "      <th>2020-01-08</th>\n",
       "      <td>73.484352</td>\n",
       "      <td>69.998245</td>\n",
       "      <td>153.430283</td>\n",
       "    </tr>\n",
       "  </tbody>\n",
       "</table>\n",
       "</div>"
      ],
      "text/plain": [
       "Ticker           AAPL      GOOGL        MSFT\n",
       "Date                                        \n",
       "2020-01-02  72.796028  68.186821  153.938217\n",
       "2020-01-03  72.088303  67.830109  152.021393\n",
       "2020-01-06  72.662720  69.638054  152.414322\n",
       "2020-01-07  72.320969  69.503548  151.024673\n",
       "2020-01-08  73.484352  69.998245  153.430283"
      ]
     },
     "execution_count": 12,
     "metadata": {},
     "output_type": "execute_result"
    }
   ],
   "source": [
    "prices = market_data['Adj Close']\n",
    "prices.head()"
   ]
  },
  {
   "cell_type": "code",
   "execution_count": 13,
   "id": "e5d1b452-8afb-432a-8c0d-37fc8d6ee8cc",
   "metadata": {
    "executionCancelledAt": null,
    "executionTime": 23,
    "lastExecutedAt": 1735829164702,
    "lastExecutedByKernel": "df19b915-b282-4fb1-9610-184657d2c393",
    "lastScheduledRunId": null,
    "lastSuccessfullyExecutedCode": "# Calculate daily returns\ndaily_returns = market_data['Adj Close'].pct_change()\ndaily_returns.head()",
    "outputsMetadata": {
     "0": {
      "height": 50,
      "tableState": {
       "customFilter": {
        "const": {
         "type": "boolean",
         "valid": true,
         "value": true
        },
        "id": "23a6959a-de7c-43f0-84d7-b30f80d913df",
        "nodeType": "const"
       },
       "quickFilterText": ""
      },
      "type": "dataFrame"
     }
    }
   },
   "outputs": [
    {
     "data": {
      "application/com.datacamp.data-table.v2+json": {
       "table": {
        "data": {
         "AAPL": [
          null,
          -0.0097220349,
          0.007968243,
          -0.0047032522,
          0.0160863925
         ],
         "Date": [
          "2020-01-02T00:00:00.000",
          "2020-01-03T00:00:00.000",
          "2020-01-06T00:00:00.000",
          "2020-01-07T00:00:00.000",
          "2020-01-08T00:00:00.000"
         ],
         "GOOGL": [
          null,
          -0.0052313972,
          0.0266540226,
          -0.0019315047,
          0.0071175873
         ],
         "MSFT": [
          null,
          -0.0124519069,
          0.0025846959,
          -0.0091175712,
          0.0159285836
         ]
        },
        "schema": {
         "fields": [
          {
           "name": "Date",
           "type": "datetime"
          },
          {
           "name": "AAPL",
           "type": "number"
          },
          {
           "name": "GOOGL",
           "type": "number"
          },
          {
           "name": "MSFT",
           "type": "number"
          }
         ],
         "pandas_version": "1.4.0",
         "primaryKey": [
          "Date"
         ]
        }
       },
       "total_rows": 5,
       "truncation_type": null
      },
      "text/html": [
       "<div>\n",
       "<style scoped>\n",
       "    .dataframe tbody tr th:only-of-type {\n",
       "        vertical-align: middle;\n",
       "    }\n",
       "\n",
       "    .dataframe tbody tr th {\n",
       "        vertical-align: top;\n",
       "    }\n",
       "\n",
       "    .dataframe thead th {\n",
       "        text-align: right;\n",
       "    }\n",
       "</style>\n",
       "<table border=\"1\" class=\"dataframe\">\n",
       "  <thead>\n",
       "    <tr style=\"text-align: right;\">\n",
       "      <th>Ticker</th>\n",
       "      <th>AAPL</th>\n",
       "      <th>GOOGL</th>\n",
       "      <th>MSFT</th>\n",
       "    </tr>\n",
       "    <tr>\n",
       "      <th>Date</th>\n",
       "      <th></th>\n",
       "      <th></th>\n",
       "      <th></th>\n",
       "    </tr>\n",
       "  </thead>\n",
       "  <tbody>\n",
       "    <tr>\n",
       "      <th>2020-01-02</th>\n",
       "      <td>NaN</td>\n",
       "      <td>NaN</td>\n",
       "      <td>NaN</td>\n",
       "    </tr>\n",
       "    <tr>\n",
       "      <th>2020-01-03</th>\n",
       "      <td>-0.009722</td>\n",
       "      <td>-0.005231</td>\n",
       "      <td>-0.012452</td>\n",
       "    </tr>\n",
       "    <tr>\n",
       "      <th>2020-01-06</th>\n",
       "      <td>0.007968</td>\n",
       "      <td>0.026654</td>\n",
       "      <td>0.002585</td>\n",
       "    </tr>\n",
       "    <tr>\n",
       "      <th>2020-01-07</th>\n",
       "      <td>-0.004703</td>\n",
       "      <td>-0.001932</td>\n",
       "      <td>-0.009118</td>\n",
       "    </tr>\n",
       "    <tr>\n",
       "      <th>2020-01-08</th>\n",
       "      <td>0.016086</td>\n",
       "      <td>0.007118</td>\n",
       "      <td>0.015929</td>\n",
       "    </tr>\n",
       "  </tbody>\n",
       "</table>\n",
       "</div>"
      ],
      "text/plain": [
       "Ticker          AAPL     GOOGL      MSFT\n",
       "Date                                    \n",
       "2020-01-02       NaN       NaN       NaN\n",
       "2020-01-03 -0.009722 -0.005231 -0.012452\n",
       "2020-01-06  0.007968  0.026654  0.002585\n",
       "2020-01-07 -0.004703 -0.001932 -0.009118\n",
       "2020-01-08  0.016086  0.007118  0.015929"
      ]
     },
     "execution_count": 13,
     "metadata": {},
     "output_type": "execute_result"
    }
   ],
   "source": [
    "# Calculate daily returns\n",
    "daily_returns = market_data['Adj Close'].pct_change()\n",
    "daily_returns.head()"
   ]
  },
  {
   "cell_type": "code",
   "execution_count": 6,
   "id": "b855bd82-0a31-460a-9c52-548ebc70c905",
   "metadata": {
    "executionCancelledAt": null,
    "executionTime": 12,
    "lastExecutedAt": 1735829060505,
    "lastExecutedByKernel": "df19b915-b282-4fb1-9610-184657d2c393",
    "lastScheduledRunId": null,
    "lastSuccessfullyExecutedCode": "# Compute risk metrics\nrisk_metrics = pd.DataFrame({\n    'Mean Return': daily_returns.mean(),\n    'Volatility': daily_returns.std(),\n    'Beta': daily_returns.cov()['AAPL'] / daily_returns['AAPL'].var()\n})"
   },
   "outputs": [],
   "source": [
    "# Compute risk metrics\n",
    "risk_metrics = pd.DataFrame({\n",
    "    'Mean Return': daily_returns.mean(),\n",
    "    'Volatility': daily_returns.std(),\n",
    "    'Beta': daily_returns.cov()['AAPL'] / daily_returns['AAPL'].var()\n",
    "})"
   ]
  },
  {
   "cell_type": "code",
   "execution_count": 7,
   "id": "c5e60985-efd1-426c-83d4-9771e22e0843",
   "metadata": {
    "executionCancelledAt": null,
    "executionTime": 12,
    "lastExecutedAt": 1735829062825,
    "lastExecutedByKernel": "df19b915-b282-4fb1-9610-184657d2c393",
    "lastScheduledRunId": null,
    "lastSuccessfullyExecutedCode": "# Risk assessment and investment signal generation\nrisk_metrics['Risk Level'] = np.where(risk_metrics['Volatility'] > 0.02, 'High', 'Low')\nrisk_metrics['Investment Signal'] = np.where(\n    risk_metrics['Mean Return'] / risk_metrics['Volatility'] > 0.15,\n    'Buy',\n    'Hold'\n)"
   },
   "outputs": [],
   "source": [
    "# Risk assessment and investment signal generation\n",
    "risk_metrics['Risk Level'] = np.where(risk_metrics['Volatility'] > 0.02, 'High', 'Low')\n",
    "risk_metrics['Investment Signal'] = np.where(\n",
    "    risk_metrics['Mean Return'] / risk_metrics['Volatility'] > 0.15,\n",
    "    'Buy',\n",
    "    'Hold'\n",
    ")"
   ]
  },
  {
   "cell_type": "code",
   "execution_count": 8,
   "id": "b0a5f2f6-6027-4d91-b300-beb2c9c9d32e",
   "metadata": {
    "executionCancelledAt": null,
    "executionTime": 17,
    "lastExecutedAt": 1735829065458,
    "lastExecutedByKernel": "df19b915-b282-4fb1-9610-184657d2c393",
    "lastScheduledRunId": null,
    "lastSuccessfullyExecutedCode": "# Display risk metrics and investment signals\nprint(risk_metrics)",
    "outputsMetadata": {
     "0": {
      "height": 122,
      "type": "stream"
     }
    }
   },
   "outputs": [
    {
     "name": "stdout",
     "output_type": "stream",
     "text": [
      "        Mean Return  Volatility      Beta Risk Level Investment Signal\n",
      "Ticker                                                                \n",
      "AAPL       0.001164    0.019958  1.000000        Low              Hold\n",
      "GOOGL      0.001021    0.020464  0.665112       High              Hold\n",
      "MSFT       0.000989    0.019205  0.719532        Low              Hold\n"
     ]
    }
   ],
   "source": [
    "# Display risk metrics and investment signals\n",
    "print(risk_metrics)"
   ]
  },
  {
   "cell_type": "code",
   "execution_count": 9,
   "id": "7e78fa31-4937-41dc-a4b2-13d6cfd37a9f",
   "metadata": {
    "executionCancelledAt": null,
    "executionTime": 381,
    "lastExecutedAt": 1735829069065,
    "lastExecutedByKernel": "df19b915-b282-4fb1-9610-184657d2c393",
    "lastScheduledRunId": null,
    "lastSuccessfullyExecutedCode": "# Visualize stock price trends\nplt.figure(figsize=(12, 6))\nfor ticker in tickers:\n    plt.plot(market_data.index, market_data['Adj Close'][ticker], label=ticker)\nplt.title('Stock Price Trends of Major Tech Companies')\nplt.xlabel('Date')\nplt.ylabel('Adjusted Close Price')\nplt.legend()\nplt.show()"
   },
   "outputs": [
    {
     "data": {
      "image/png": "[encoded data removed]",
      "text/plain": [
       "<Figure size 1200x600 with 1 Axes>"
      ]
     },
     "metadata": {
      "image/png": {
       "height": 546,
       "width": 1005
      }
     },
     "output_type": "display_data"
    }
   ],
   "source": [
    "# Visualize stock price trends\n",
    "plt.figure(figsize=(12, 6))\n",
    "for ticker in tickers:\n",
    "    plt.plot(market_data.index, market_data['Adj Close'][ticker], label=ticker)\n",
    "plt.title('Stock Price Trends of Major Tech Companies')\n",
    "plt.xlabel('Date')\n",
    "plt.ylabel('Adjusted Close Price')\n",
    "plt.legend()\n",
    "plt.show()"
   ]
  },
  {
   "cell_type": "code",
   "execution_count": 17,
   "id": "f21048c5-ef85-4921-be4f-3304ca06b04f",
   "metadata": {
    "executionCancelledAt": null,
    "executionTime": 408,
    "lastExecutedAt": 1735829462160,
    "lastExecutedByKernel": "df19b915-b282-4fb1-9610-184657d2c393",
    "lastScheduledRunId": null,
    "lastSuccessfullyExecutedCode": "import yfinance as yf\nimport pandas as pd\n\ncompanies = ['AAPL', 'GOOGL', 'MSFT']  # Define the list of tech companies\n\nfinancials = {}\nfor company in companies:\n    ticker = yf.Ticker(company)\n    financials[company] = ticker.info\n\n# Extracting the financial metrics from the info\nfinancial_metrics = {\n    'Company': [],\n    'Revenue': [],\n    'ROE': [],\n    'Debt-to-Equity': []\n}\n\nfor company in companies:\n    financial_metrics['Company'].append(company)\n    financial_metrics['Revenue'].append(financials[company].get('totalRevenue', 'N/A'))  # Total Revenue\n    financial_metrics['ROE'].append(financials[company].get('returnOnEquity', 'N/A'))  # Return on Equity\n    financial_metrics['Debt-to-Equity'].append(financials[company].get('debtToEquity', 'N/A'))  # Debt-to-Equity Ratio\n\nfinancial = pd.DataFrame(financial_metrics)"
   },
   "outputs": [],
   "source": [
    "import yfinance as yf\n",
    "import pandas as pd\n",
    "\n",
    "companies = ['AAPL', 'GOOGL', 'MSFT']  # Define the list of tech companies\n",
    "\n",
    "financials = {}\n",
    "for company in companies:\n",
    "    ticker = yf.Ticker(company)\n",
    "    financials[company] = ticker.info\n",
    "\n",
    "# Extracting the financial metrics from the info\n",
    "financial_metrics = {\n",
    "    'Company': [],\n",
    "    'Revenue': [],\n",
    "    'ROE': [],\n",
    "    'Debt-to-Equity': []\n",
    "}\n",
    "\n",
    "for company in companies:\n",
    "    financial_metrics['Company'].append(company)\n",
    "    financial_metrics['Revenue'].append(financials[company].get('totalRevenue', 'N/A'))  # Total Revenue\n",
    "    financial_metrics['ROE'].append(financials[company].get('returnOnEquity', 'N/A'))  # Return on Equity\n",
    "    financial_metrics['Debt-to-Equity'].append(financials[company].get('debtToEquity', 'N/A'))  # Debt-to-Equity Ratio\n",
    "\n",
    "financial = pd.DataFrame(financial_metrics)"
   ]
  },
  {
   "cell_type": "code",
   "execution_count": 22,
   "id": "c2e7b41b-e07a-42fb-84b8-ea1119fde6a0",
   "metadata": {
    "chartConfig": {
     "bar": {
      "hasRoundedCorners": true,
      "stacked": false
     },
     "type": "bar",
     "version": "v1"
    },
    "executionCancelledAt": null,
    "executionTime": 18,
    "lastExecutedAt": 1735829881420,
    "lastExecutedByKernel": "df19b915-b282-4fb1-9610-184657d2c393",
    "lastScheduledRunId": null,
    "lastSuccessfullyExecutedCode": "financial.head()",
    "outputsMetadata": {
     "0": {
      "height": 50,
      "tableState": {
       "customFilter": {
        "const": {
         "type": "boolean",
         "valid": true,
         "value": true
        },
        "id": "23a6959a-de7c-43f0-84d7-b30f80d913df",
        "nodeType": "const"
       },
       "quickFilterText": ""
      },
      "type": "dataFrame"
     }
    },
    "visualizeDataframe": false
   },
   "outputs": [
    {
     "data": {
      "application/com.datacamp.data-table.v2+json": {
       "table": {
        "data": {
         "Company": [
          "AAPL",
          "GOOGL",
          "MSFT"
         ],
         "Debt-to-Equity": [
          209.059,
          9.324,
          33.657
         ],
         "ROE": [
          1.5741299,
          0.32101002,
          0.35604
         ],
         "Revenue": [
          391034994688,
          339859013632,
          254189993984
         ],
         "index": [
          0,
          1,
          2
         ]
        },
        "schema": {
         "fields": [
          {
           "name": "index",
           "type": "integer"
          },
          {
           "name": "Company",
           "type": "string"
          },
          {
           "name": "Revenue",
           "type": "integer"
          },
          {
           "name": "ROE",
           "type": "number"
          },
          {
           "name": "Debt-to-Equity",
           "type": "number"
          }
         ],
         "pandas_version": "1.4.0",
         "primaryKey": [
          "index"
         ]
        }
       },
       "total_rows": 3,
       "truncation_type": null
      },
      "text/html": [
       "<div>\n",
       "<style scoped>\n",
       "    .dataframe tbody tr th:only-of-type {\n",
       "        vertical-align: middle;\n",
       "    }\n",
       "\n",
       "    .dataframe tbody tr th {\n",
       "        vertical-align: top;\n",
       "    }\n",
       "\n",
       "    .dataframe thead th {\n",
       "        text-align: right;\n",
       "    }\n",
       "</style>\n",
       "<table border=\"1\" class=\"dataframe\">\n",
       "  <thead>\n",
       "    <tr style=\"text-align: right;\">\n",
       "      <th></th>\n",
       "      <th>Company</th>\n",
       "      <th>Revenue</th>\n",
       "      <th>ROE</th>\n",
       "      <th>Debt-to-Equity</th>\n",
       "    </tr>\n",
       "  </thead>\n",
       "  <tbody>\n",
       "    <tr>\n",
       "      <th>0</th>\n",
       "      <td>AAPL</td>\n",
       "      <td>391034994688</td>\n",
       "      <td>1.57413</td>\n",
       "      <td>209.059</td>\n",
       "    </tr>\n",
       "    <tr>\n",
       "      <th>1</th>\n",
       "      <td>GOOGL</td>\n",
       "      <td>339859013632</td>\n",
       "      <td>0.32101</td>\n",
       "      <td>9.324</td>\n",
       "    </tr>\n",
       "    <tr>\n",
       "      <th>2</th>\n",
       "      <td>MSFT</td>\n",
       "      <td>254189993984</td>\n",
       "      <td>0.35604</td>\n",
       "      <td>33.657</td>\n",
       "    </tr>\n",
       "  </tbody>\n",
       "</table>\n",
       "</div>"
      ],
      "text/plain": [
       "  Company       Revenue      ROE  Debt-to-Equity\n",
       "0    AAPL  391034994688  1.57413         209.059\n",
       "1   GOOGL  339859013632  0.32101           9.324\n",
       "2    MSFT  254189993984  0.35604          33.657"
      ]
     },
     "execution_count": 22,
     "metadata": {},
     "output_type": "execute_result"
    }
   ],
   "source": [
    "financial.head()"
   ]
  },
  {
   "cell_type": "code",
   "execution_count": 18,
   "id": "1cdbb69d-a0e2-4c78-893d-9499ebf47ced",
   "metadata": {
    "executionCancelledAt": null,
    "executionTime": 202,
    "lastExecutedAt": 1735829466607,
    "lastExecutedByKernel": "df19b915-b282-4fb1-9610-184657d2c393",
    "lastScheduledRunId": null,
    "lastSuccessfullyExecutedCode": "# Revenue Comparison\nfig = px.bar(financial, x = 'Company', y = 'Revenue', title = \"Revenue Comparison\", labels = {'Revenue': 'Revenue (₹)', 'Company': 'Company'})\nfig.update_layout(yaxis_title = \"Revenue (₹)\", xaxis_title = \"Company\")\nfig.show()",
    "outputsMetadata": {
     "0": {
      "height": 17,
      "type": "plotly"
     }
    }
   },
   "outputs": [
    {
     "data": {
      "application/vnd.plotly.v1+json": {
       "config": {
        "displaylogo": false,
        "plotlyServerURL": "https://plot.ly",
        "toImageButtonOptions": {
         "filename": "DataLab plot",
         "format": "png",
         "height": 500,
         "scale": 2,
         "width": 700
        }
       },
       "data": [
        {
         "alignmentgroup": "True",
         "hovertemplate": "Company=%{x}<br>Revenue (₹)=%{y}<extra></extra>",
         "legendgroup": "",
         "marker": {
          "color": "#6568a0",
          "pattern": {
           "shape": ""
          }
         },
         "name": "",
         "offsetgroup": "",
         "orientation": "v",
         "showlegend": false,
         "textposition": "auto",
         "type": "bar",
         "x": [
          "AAPL",
          "GOOGL",
          "MSFT"
         ],
         "xaxis": "x",
         "y": [
          391034994688,
          339859013632,
          254189993984
         ],
         "yaxis": "y"
        }
       ],
       "layout": {
        "barmode": "relative",
        "legend": {
         "tracegroupgap": 0
        },
        "template": {
         "data": {
          "bar": [
           {
            "error_x": {
             "color": "#2a3f5f"
            },
            "error_y": {
             "color": "#2a3f5f"
            },
            "marker": {
             "line": {
              "color": "white",
              "width": 0.5
             },
             "pattern": {
              "fillmode": "overlay",
              "size": 10,
              "solidity": 0.2
             }
            },
            "type": "bar"
           }
          ],
          "barpolar": [
           {
            "marker": {
             "line": {
              "color": "white",
              "width": 0.5
             },
             "pattern": {
              "fillmode": "overlay",
              "size": 10,
              "solidity": 0.2
             }
            },
            "type": "barpolar"
           }
          ],
          "carpet": [
           {
            "aaxis": {
             "endlinecolor": "#2a3f5f",
             "gridcolor": "#C8D4E3",
             "linecolor": "#C8D4E3",
             "minorgridcolor": "#C8D4E3",
             "startlinecolor": "#2a3f5f"
            },
            "baxis": {
             "endlinecolor": "#2a3f5f",
             "gridcolor": "#C8D4E3",
             "linecolor": "#C8D4E3",
             "minorgridcolor": "#C8D4E3",
             "startlinecolor": "#2a3f5f"
            },
            "type": "carpet"
           }
          ],
          "choropleth": [
           {
            "colorbar": {
             "outlinewidth": 0,
             "ticks": ""
            },
            "type": "choropleth"
           }
          ],
          "contour": [
           {
            "colorbar": {
             "outlinewidth": 0,
             "ticks": ""
            },
            "colorscale": [
             [
              0,
              "#0d0887"
             ],
             [
              0.1111111111111111,
              "#46039f"
             ],
             [
              0.2222222222222222,
              "#7201a8"
             ],
             [
              0.3333333333333333,
              "#9c179e"
             ],
             [
              0.4444444444444444,
              "#bd3786"
             ],
             [
              0.5555555555555556,
              "#d8576b"
             ],
             [
              0.6666666666666666,
              "#ed7953"
             ],
             [
              0.7777777777777778,
              "#fb9f3a"
             ],
             [
              0.8888888888888888,
              "#fdca26"
             ],
             [
              1,
              "#f0f921"
             ]
            ],
            "type": "contour"
           }
          ],
          "contourcarpet": [
           {
            "colorbar": {
             "outlinewidth": 0,
             "ticks": ""
            },
            "type": "contourcarpet"
           }
          ],
          "heatmap": [
           {
            "colorbar": {
             "outlinewidth": 0,
             "ticks": ""
            },
            "colorscale": [
             [
              0,
              "#0d0887"
             ],
             [
              0.1111111111111111,
              "#46039f"
             ],
             [
              0.2222222222222222,
              "#7201a8"
             ],
             [
              0.3333333333333333,
              "#9c179e"
             ],
             [
              0.4444444444444444,
              "#bd3786"
             ],
             [
              0.5555555555555556,
              "#d8576b"
             ],
             [
              0.6666666666666666,
              "#ed7953"
             ],
             [
              0.7777777777777778,
              "#fb9f3a"
             ],
             [
              0.8888888888888888,
              "#fdca26"
             ],
             [
              1,
              "#f0f921"
             ]
            ],
            "type": "heatmap"
           }
          ],
          "heatmapgl": [
           {
            "colorbar": {
             "outlinewidth": 0,
             "ticks": ""
            },
            "colorscale": [
             [
              0,
              "#0d0887"
             ],
             [
              0.1111111111111111,
              "#46039f"
             ],
             [
              0.2222222222222222,
              "#7201a8"
             ],
             [
              0.3333333333333333,
              "#9c179e"
             ],
             [
              0.4444444444444444,
              "#bd3786"
             ],
             [
              0.5555555555555556,
              "#d8576b"
             ],
             [
              0.6666666666666666,
              "#ed7953"
             ],
             [
              0.7777777777777778,
              "#fb9f3a"
             ],
             [
              0.8888888888888888,
              "#fdca26"
             ],
             [
              1,
              "#f0f921"
             ]
            ],
            "type": "heatmapgl"
           }
          ],
          "histogram": [
           {
            "marker": {
             "pattern": {
              "fillmode": "overlay",
              "size": 10,
              "solidity": 0.2
             }
            },
            "type": "histogram"
           }
          ],
          "histogram2d": [
           {
            "colorbar": {
             "outlinewidth": 0,
             "ticks": ""
            },
            "colorscale": [
             [
              0,
              "#0d0887"
             ],
             [
              0.1111111111111111,
              "#46039f"
             ],
             [
              0.2222222222222222,
              "#7201a8"
             ],
             [
              0.3333333333333333,
              "#9c179e"
             ],
             [
              0.4444444444444444,
              "#bd3786"
             ],
             [
              0.5555555555555556,
              "#d8576b"
             ],
             [
              0.6666666666666666,
              "#ed7953"
             ],
             [
              0.7777777777777778,
              "#fb9f3a"
             ],
             [
              0.8888888888888888,
              "#fdca26"
             ],
             [
              1,
              "#f0f921"
             ]
            ],
            "type": "histogram2d"
           }
          ],
          "histogram2dcontour": [
           {
            "colorbar": {
             "outlinewidth": 0,
             "ticks": ""
            },
            "colorscale": [
             [
              0,
              "#0d0887"
             ],
             [
              0.1111111111111111,
              "#46039f"
             ],
             [
              0.2222222222222222,
              "#7201a8"
             ],
             [
              0.3333333333333333,
              "#9c179e"
             ],
             [
              0.4444444444444444,
              "#bd3786"
             ],
             [
              0.5555555555555556,
              "#d8576b"
             ],
             [
              0.6666666666666666,
              "#ed7953"
             ],
             [
              0.7777777777777778,
              "#fb9f3a"
             ],
             [
              0.8888888888888888,
              "#fdca26"
             ],
             [
              1,
              "#f0f921"
             ]
            ],
            "type": "histogram2dcontour"
           }
          ],
          "mesh3d": [
           {
            "colorbar": {
             "outlinewidth": 0,
             "ticks": ""
            },
            "type": "mesh3d"
           }
          ],
          "parcoords": [
           {
            "line": {
             "colorbar": {
              "outlinewidth": 0,
              "ticks": ""
             }
            },
            "type": "parcoords"
           }
          ],
          "pie": [
           {
            "automargin": true,
            "type": "pie"
           }
          ],
          "scatter": [
           {
            "fillpattern": {
             "fillmode": "overlay",
             "size": 10,
             "solidity": 0.2
            },
            "type": "scatter"
           }
          ],
          "scatter3d": [
           {
            "line": {
             "colorbar": {
              "outlinewidth": 0,
              "ticks": ""
             }
            },
            "marker": {
             "colorbar": {
              "outlinewidth": 0,
              "ticks": ""
             }
            },
            "type": "scatter3d"
           }
          ],
          "scattercarpet": [
           {
            "marker": {
             "colorbar": {
              "outlinewidth": 0,
              "ticks": ""
             }
            },
            "type": "scattercarpet"
           }
          ],
          "scattergeo": [
           {
            "marker": {
             "colorbar": {
              "outlinewidth": 0,
              "ticks": ""
             }
            },
            "type": "scattergeo"
           }
          ],
          "scattergl": [
           {
            "marker": {
             "colorbar": {
              "outlinewidth": 0,
              "ticks": ""
             }
            },
            "type": "scattergl"
           }
          ],
          "scattermapbox": [
           {
            "marker": {
             "colorbar": {
              "outlinewidth": 0,
              "ticks": ""
             }
            },
            "type": "scattermapbox"
           }
          ],
          "scatterpolar": [
           {
            "marker": {
             "colorbar": {
              "outlinewidth": 0,
              "ticks": ""
             }
            },
            "type": "scatterpolar"
           }
          ],
          "scatterpolargl": [
           {
            "marker": {
             "colorbar": {
              "outlinewidth": 0,
              "ticks": ""
             }
            },
            "type": "scatterpolargl"
           }
          ],
          "scatterternary": [
           {
            "marker": {
             "colorbar": {
              "outlinewidth": 0,
              "ticks": ""
             }
            },
            "type": "scatterternary"
           }
          ],
          "surface": [
           {
            "colorbar": {
             "outlinewidth": 0,
             "ticks": ""
            },
            "colorscale": [
             [
              0,
              "#0d0887"
             ],
             [
              0.1111111111111111,
              "#46039f"
             ],
             [
              0.2222222222222222,
              "#7201a8"
             ],
             [
              0.3333333333333333,
              "#9c179e"
             ],
             [
              0.4444444444444444,
              "#bd3786"
             ],
             [
              0.5555555555555556,
              "#d8576b"
             ],
             [
              0.6666666666666666,
              "#ed7953"
             ],
             [
              0.7777777777777778,
              "#fb9f3a"
             ],
             [
              0.8888888888888888,
              "#fdca26"
             ],
             [
              1,
              "#f0f921"
             ]
            ],
            "type": "surface"
           }
          ],
          "table": [
           {
            "cells": {
             "fill": {
              "color": "#EBF0F8"
             },
             "line": {
              "color": "white"
             }
            },
            "header": {
             "fill": {
              "color": "#C8D4E3"
             },
             "line": {
              "color": "white"
             }
            },
            "type": "table"
           }
          ]
         },
         "layout": {
          "annotationdefaults": {
           "arrowcolor": "#2a3f5f",
           "arrowhead": 0,
           "arrowwidth": 1
          },
          "autotypenumbers": "strict",
          "coloraxis": {
           "colorbar": {
            "outlinewidth": 0,
            "ticks": ""
           }
          },
          "colorscale": {
           "diverging": [
            [
             0,
             "#8e0152"
            ],
            [
             0.1,
             "#c51b7d"
            ],
            [
             0.2,
             "#de77ae"
            ],
            [
             0.3,
             "#f1b6da"
            ],
            [
             0.4,
             "#fde0ef"
            ],
            [
             0.5,
             "#f7f7f7"
            ],
            [
             0.6,
             "#e6f5d0"
            ],
            [
             0.7,
             "#b8e186"
            ],
            [
             0.8,
             "#7fbc41"
            ],
            [
             0.9,
             "#4d9221"
            ],
            [
             1,
             "#276419"
            ]
           ],
           "sequential": [
            [
             0,
             "#0d0887"
            ],
            [
             0.1111111111111111,
             "#46039f"
            ],
            [
             0.2222222222222222,
             "#7201a8"
            ],
            [
             0.3333333333333333,
             "#9c179e"
            ],
            [
             0.4444444444444444,
             "#bd3786"
            ],
            [
             0.5555555555555556,
             "#d8576b"
            ],
            [
             0.6666666666666666,
             "#ed7953"
            ],
            [
             0.7777777777777778,
             "#fb9f3a"
            ],
            [
             0.8888888888888888,
             "#fdca26"
            ],
            [
             1,
             "#f0f921"
            ]
           ],
           "sequentialminus": [
            [
             0,
             "#0d0887"
            ],
            [
             0.1111111111111111,
             "#46039f"
            ],
            [
             0.2222222222222222,
             "#7201a8"
            ],
            [
             0.3333333333333333,
             "#9c179e"
            ],
            [
             0.4444444444444444,
             "#bd3786"
            ],
            [
             0.5555555555555556,
             "#d8576b"
            ],
            [
             0.6666666666666666,
             "#ed7953"
            ],
            [
             0.7777777777777778,
             "#fb9f3a"
            ],
            [
             0.8888888888888888,
             "#fdca26"
            ],
            [
             1,
             "#f0f921"
            ]
           ]
          },
          "colorway": [
           "#6568a0",
           "#43d7a4",
           "#4095db",
           "#facc5f",
           "#cae279",
           "#7db64f",
           "#f08083",
           "#5bcdf2",
           "#f099dc",
           "#965858"
          ],
          "font": {
           "color": "#05192D",
           "family": "Studio-Feixen-Sans, Arial, sans-serif"
          },
          "geo": {
           "bgcolor": "white",
           "lakecolor": "white",
           "landcolor": "white",
           "showlakes": true,
           "showland": true,
           "subunitcolor": "#C8D4E3"
          },
          "hoverlabel": {
           "align": "left",
           "font": {
            "family": "Studio-Feixen-Sans, Arial, sans-serif"
           }
          },
          "hovermode": "closest",
          "mapbox": {
           "style": "light"
          },
          "paper_bgcolor": "white",
          "plot_bgcolor": "white",
          "polar": {
           "angularaxis": {
            "gridcolor": "#EBF0F8",
            "linecolor": "#EBF0F8",
            "ticks": ""
           },
           "bgcolor": "white",
           "radialaxis": {
            "gridcolor": "#EBF0F8",
            "linecolor": "#EBF0F8",
            "ticks": ""
           }
          },
          "scene": {
           "xaxis": {
            "backgroundcolor": "white",
            "gridcolor": "#DFE8F3",
            "gridwidth": 2,
            "linecolor": "#EBF0F8",
            "showbackground": true,
            "ticks": "",
            "zerolinecolor": "#EBF0F8"
           },
           "yaxis": {
            "backgroundcolor": "white",
            "gridcolor": "#DFE8F3",
            "gridwidth": 2,
            "linecolor": "#EBF0F8",
            "showbackground": true,
            "ticks": "",
            "zerolinecolor": "#EBF0F8"
           },
           "zaxis": {
            "backgroundcolor": "white",
            "gridcolor": "#DFE8F3",
            "gridwidth": 2,
            "linecolor": "#EBF0F8",
            "showbackground": true,
            "ticks": "",
            "zerolinecolor": "#EBF0F8"
           }
          },
          "shapedefaults": {
           "line": {
            "color": "#2a3f5f"
           }
          },
          "ternary": {
           "aaxis": {
            "gridcolor": "#DFE8F3",
            "linecolor": "#A2B1C6",
            "ticks": ""
           },
           "baxis": {
            "gridcolor": "#DFE8F3",
            "linecolor": "#A2B1C6",
            "ticks": ""
           },
           "bgcolor": "white",
           "caxis": {
            "gridcolor": "#DFE8F3",
            "linecolor": "#A2B1C6",
            "ticks": ""
           }
          },
          "title": {
           "x": 0.05
          },
          "xaxis": {
           "automargin": true,
           "gridcolor": "#EBF0F8",
           "linecolor": "#EBF0F8",
           "ticks": "",
           "title": {
            "standoff": 15
           },
           "zerolinecolor": "#EBF0F8",
           "zerolinewidth": 2
          },
          "yaxis": {
           "automargin": true,
           "gridcolor": "#EBF0F8",
           "linecolor": "#EBF0F8",
           "ticks": "",
           "title": {
            "standoff": 15
           },
           "zerolinecolor": "#EBF0F8",
           "zerolinewidth": 2
          }
         }
        },
        "title": {
         "text": "Revenue Comparison"
        },
        "xaxis": {
         "anchor": "y",
         "domain": [
          0,
          1
         ],
         "title": {
          "text": "Company"
         }
        },
        "yaxis": {
         "anchor": "x",
         "domain": [
          0,
          1
         ],
         "title": {
          "text": "Revenue (₹)"
         }
        }
       }
      }
     },
     "metadata": {},
     "output_type": "display_data"
    }
   ],
   "source": [
    "# Revenue Comparison\n",
    "fig = px.bar(financial, x = 'Company', y = 'Revenue', title = \"Revenue Comparison\", labels = {'Revenue': 'Revenue (₹)', 'Company': 'Company'})\n",
    "fig.update_layout(yaxis_title = \"Revenue (₹)\", xaxis_title = \"Company\")\n",
    "fig.show()"
   ]
  },
  {
   "cell_type": "code",
   "execution_count": 19,
   "id": "917bcbef-c9bc-4d7e-9381-a2c660ef9bf0",
   "metadata": {
    "executionCancelledAt": null,
    "executionTime": 111,
    "lastExecutedAt": 1735829501188,
    "lastExecutedByKernel": "df19b915-b282-4fb1-9610-184657d2c393",
    "lastScheduledRunId": null,
    "lastSuccessfullyExecutedCode": "# Return on Equity (ROE) Comparison\nfig = px.bar(financial, x = 'Company', y = 'ROE', title = \"Return on Equity (ROE) Comparison\", labels = {'ROE': 'ROE (%)', 'Company': 'Company'})\nfig.update_layout(yaxis_title = \"ROE (%)\", xaxis_title = \"Company\")\nfig.show()",
    "outputsMetadata": {
     "0": {
      "height": 17,
      "type": "plotly"
     }
    }
   },
   "outputs": [
    {
     "data": {
      "application/vnd.plotly.v1+json": {
       "config": {
        "displaylogo": false,
        "plotlyServerURL": "https://plot.ly",
        "toImageButtonOptions": {
         "filename": "DataLab plot",
         "format": "png",
         "height": 500,
         "scale": 2,
         "width": 700
        }
       },
       "data": [
        {
         "alignmentgroup": "True",
         "hovertemplate": "Company=%{x}<br>ROE (%)=%{y}<extra></extra>",
         "legendgroup": "",
         "marker": {
          "color": "#6568a0",
          "pattern": {
           "shape": ""
          }
         },
         "name": "",
         "offsetgroup": "",
         "orientation": "v",
         "showlegend": false,
         "textposition": "auto",
         "type": "bar",
         "x": [
          "AAPL",
          "GOOGL",
          "MSFT"
         ],
         "xaxis": "x",
         "y": [
          1.5741299,
          0.32101002,
          0.35604
         ],
         "yaxis": "y"
        }
       ],
       "layout": {
        "barmode": "relative",
        "legend": {
         "tracegroupgap": 0
        },
        "template": {
         "data": {
          "bar": [
           {
            "error_x": {
             "color": "#2a3f5f"
            },
            "error_y": {
             "color": "#2a3f5f"
            },
            "marker": {
             "line": {
              "color": "white",
              "width": 0.5
             },
             "pattern": {
              "fillmode": "overlay",
              "size": 10,
              "solidity": 0.2
             }
            },
            "type": "bar"
           }
          ],
          "barpolar": [
           {
            "marker": {
             "line": {
              "color": "white",
              "width": 0.5
             },
             "pattern": {
              "fillmode": "overlay",
              "size": 10,
              "solidity": 0.2
             }
            },
            "type": "barpolar"
           }
          ],
          "carpet": [
           {
            "aaxis": {
             "endlinecolor": "#2a3f5f",
             "gridcolor": "#C8D4E3",
             "linecolor": "#C8D4E3",
             "minorgridcolor": "#C8D4E3",
             "startlinecolor": "#2a3f5f"
            },
            "baxis": {
             "endlinecolor": "#2a3f5f",
             "gridcolor": "#C8D4E3",
             "linecolor": "#C8D4E3",
             "minorgridcolor": "#C8D4E3",
             "startlinecolor": "#2a3f5f"
            },
            "type": "carpet"
           }
          ],
          "choropleth": [
           {
            "colorbar": {
             "outlinewidth": 0,
             "ticks": ""
            },
            "type": "choropleth"
           }
          ],
          "contour": [
           {
            "colorbar": {
             "outlinewidth": 0,
             "ticks": ""
            },
            "colorscale": [
             [
              0,
              "#0d0887"
             ],
             [
              0.1111111111111111,
              "#46039f"
             ],
             [
              0.2222222222222222,
              "#7201a8"
             ],
             [
              0.3333333333333333,
              "#9c179e"
             ],
             [
              0.4444444444444444,
              "#bd3786"
             ],
             [
              0.5555555555555556,
              "#d8576b"
             ],
             [
              0.6666666666666666,
              "#ed7953"
             ],
             [
              0.7777777777777778,
              "#fb9f3a"
             ],
             [
              0.8888888888888888,
              "#fdca26"
             ],
             [
              1,
              "#f0f921"
             ]
            ],
            "type": "contour"
           }
          ],
          "contourcarpet": [
           {
            "colorbar": {
             "outlinewidth": 0,
             "ticks": ""
            },
            "type": "contourcarpet"
           }
          ],
          "heatmap": [
           {
            "colorbar": {
             "outlinewidth": 0,
             "ticks": ""
            },
            "colorscale": [
             [
              0,
              "#0d0887"
             ],
             [
              0.1111111111111111,
              "#46039f"
             ],
             [
              0.2222222222222222,
              "#7201a8"
             ],
             [
              0.3333333333333333,
              "#9c179e"
             ],
             [
              0.4444444444444444,
              "#bd3786"
             ],
             [
              0.5555555555555556,
              "#d8576b"
             ],
             [
              0.6666666666666666,
              "#ed7953"
             ],
             [
              0.7777777777777778,
              "#fb9f3a"
             ],
             [
              0.8888888888888888,
              "#fdca26"
             ],
             [
              1,
              "#f0f921"
             ]
            ],
            "type": "heatmap"
           }
          ],
          "heatmapgl": [
           {
            "colorbar": {
             "outlinewidth": 0,
             "ticks": ""
            },
            "colorscale": [
             [
              0,
              "#0d0887"
             ],
             [
              0.1111111111111111,
              "#46039f"
             ],
             [
              0.2222222222222222,
              "#7201a8"
             ],
             [
              0.3333333333333333,
              "#9c179e"
             ],
             [
              0.4444444444444444,
              "#bd3786"
             ],
             [
              0.5555555555555556,
              "#d8576b"
             ],
             [
              0.6666666666666666,
              "#ed7953"
             ],
             [
              0.7777777777777778,
              "#fb9f3a"
             ],
             [
              0.8888888888888888,
              "#fdca26"
             ],
             [
              1,
              "#f0f921"
             ]
            ],
            "type": "heatmapgl"
           }
          ],
          "histogram": [
           {
            "marker": {
             "pattern": {
              "fillmode": "overlay",
              "size": 10,
              "solidity": 0.2
             }
            },
            "type": "histogram"
           }
          ],
          "histogram2d": [
           {
            "colorbar": {
             "outlinewidth": 0,
             "ticks": ""
            },
            "colorscale": [
             [
              0,
              "#0d0887"
             ],
             [
              0.1111111111111111,
              "#46039f"
             ],
             [
              0.2222222222222222,
              "#7201a8"
             ],
             [
              0.3333333333333333,
              "#9c179e"
             ],
             [
              0.4444444444444444,
              "#bd3786"
             ],
             [
              0.5555555555555556,
              "#d8576b"
             ],
             [
              0.6666666666666666,
              "#ed7953"
             ],
             [
              0.7777777777777778,
              "#fb9f3a"
             ],
             [
              0.8888888888888888,
              "#fdca26"
             ],
             [
              1,
              "#f0f921"
             ]
            ],
            "type": "histogram2d"
           }
          ],
          "histogram2dcontour": [
           {
            "colorbar": {
             "outlinewidth": 0,
             "ticks": ""
            },
            "colorscale": [
             [
              0,
              "#0d0887"
             ],
             [
              0.1111111111111111,
              "#46039f"
             ],
             [
              0.2222222222222222,
              "#7201a8"
             ],
             [
              0.3333333333333333,
              "#9c179e"
             ],
             [
              0.4444444444444444,
              "#bd3786"
             ],
             [
              0.5555555555555556,
              "#d8576b"
             ],
             [
              0.6666666666666666,
              "#ed7953"
             ],
             [
              0.7777777777777778,
              "#fb9f3a"
             ],
             [
              0.8888888888888888,
              "#fdca26"
             ],
             [
              1,
              "#f0f921"
             ]
            ],
            "type": "histogram2dcontour"
           }
          ],
          "mesh3d": [
           {
            "colorbar": {
             "outlinewidth": 0,
             "ticks": ""
            },
            "type": "mesh3d"
           }
          ],
          "parcoords": [
           {
            "line": {
             "colorbar": {
              "outlinewidth": 0,
              "ticks": ""
             }
            },
            "type": "parcoords"
           }
          ],
          "pie": [
           {
            "automargin": true,
            "type": "pie"
           }
          ],
          "scatter": [
           {
            "fillpattern": {
             "fillmode": "overlay",
             "size": 10,
             "solidity": 0.2
            },
            "type": "scatter"
           }
          ],
          "scatter3d": [
           {
            "line": {
             "colorbar": {
              "outlinewidth": 0,
              "ticks": ""
             }
            },
            "marker": {
             "colorbar": {
              "outlinewidth": 0,
              "ticks": ""
             }
            },
            "type": "scatter3d"
           }
          ],
          "scattercarpet": [
           {
            "marker": {
             "colorbar": {
              "outlinewidth": 0,
              "ticks": ""
             }
            },
            "type": "scattercarpet"
           }
          ],
          "scattergeo": [
           {
            "marker": {
             "colorbar": {
              "outlinewidth": 0,
              "ticks": ""
             }
            },
            "type": "scattergeo"
           }
          ],
          "scattergl": [
           {
            "marker": {
             "colorbar": {
              "outlinewidth": 0,
              "ticks": ""
             }
            },
            "type": "scattergl"
           }
          ],
          "scattermapbox": [
           {
            "marker": {
             "colorbar": {
              "outlinewidth": 0,
              "ticks": ""
             }
            },
            "type": "scattermapbox"
           }
          ],
          "scatterpolar": [
           {
            "marker": {
             "colorbar": {
              "outlinewidth": 0,
              "ticks": ""
             }
            },
            "type": "scatterpolar"
           }
          ],
          "scatterpolargl": [
           {
            "marker": {
             "colorbar": {
              "outlinewidth": 0,
              "ticks": ""
             }
            },
            "type": "scatterpolargl"
           }
          ],
          "scatterternary": [
           {
            "marker": {
             "colorbar": {
              "outlinewidth": 0,
              "ticks": ""
             }
            },
            "type": "scatterternary"
           }
          ],
          "surface": [
           {
            "colorbar": {
             "outlinewidth": 0,
             "ticks": ""
            },
            "colorscale": [
             [
              0,
              "#0d0887"
             ],
             [
              0.1111111111111111,
              "#46039f"
             ],
             [
              0.2222222222222222,
              "#7201a8"
             ],
             [
              0.3333333333333333,
              "#9c179e"
             ],
             [
              0.4444444444444444,
              "#bd3786"
             ],
             [
              0.5555555555555556,
              "#d8576b"
             ],
             [
              0.6666666666666666,
              "#ed7953"
             ],
             [
              0.7777777777777778,
              "#fb9f3a"
             ],
             [
              0.8888888888888888,
              "#fdca26"
             ],
             [
              1,
              "#f0f921"
             ]
            ],
            "type": "surface"
           }
          ],
          "table": [
           {
            "cells": {
             "fill": {
              "color": "#EBF0F8"
             },
             "line": {
              "color": "white"
             }
            },
            "header": {
             "fill": {
              "color": "#C8D4E3"
             },
             "line": {
              "color": "white"
             }
            },
            "type": "table"
           }
          ]
         },
         "layout": {
          "annotationdefaults": {
           "arrowcolor": "#2a3f5f",
           "arrowhead": 0,
           "arrowwidth": 1
          },
          "autotypenumbers": "strict",
          "coloraxis": {
           "colorbar": {
            "outlinewidth": 0,
            "ticks": ""
           }
          },
          "colorscale": {
           "diverging": [
            [
             0,
             "#8e0152"
            ],
            [
             0.1,
             "#c51b7d"
            ],
            [
             0.2,
             "#de77ae"
            ],
            [
             0.3,
             "#f1b6da"
            ],
            [
             0.4,
             "#fde0ef"
            ],
            [
             0.5,
             "#f7f7f7"
            ],
            [
             0.6,
             "#e6f5d0"
            ],
            [
             0.7,
             "#b8e186"
            ],
            [
             0.8,
             "#7fbc41"
            ],
            [
             0.9,
             "#4d9221"
            ],
            [
             1,
             "#276419"
            ]
           ],
           "sequential": [
            [
             0,
             "#0d0887"
            ],
            [
             0.1111111111111111,
             "#46039f"
            ],
            [
             0.2222222222222222,
             "#7201a8"
            ],
            [
             0.3333333333333333,
             "#9c179e"
            ],
            [
             0.4444444444444444,
             "#bd3786"
            ],
            [
             0.5555555555555556,
             "#d8576b"
            ],
            [
             0.6666666666666666,
             "#ed7953"
            ],
            [
             0.7777777777777778,
             "#fb9f3a"
            ],
            [
             0.8888888888888888,
             "#fdca26"
            ],
            [
             1,
             "#f0f921"
            ]
           ],
           "sequentialminus": [
            [
             0,
             "#0d0887"
            ],
            [
             0.1111111111111111,
             "#46039f"
            ],
            [
             0.2222222222222222,
             "#7201a8"
            ],
            [
             0.3333333333333333,
             "#9c179e"
            ],
            [
             0.4444444444444444,
             "#bd3786"
            ],
            [
             0.5555555555555556,
             "#d8576b"
            ],
            [
             0.6666666666666666,
             "#ed7953"
            ],
            [
             0.7777777777777778,
             "#fb9f3a"
            ],
            [
             0.8888888888888888,
             "#fdca26"
            ],
            [
             1,
             "#f0f921"
            ]
           ]
          },
          "colorway": [
           "#6568a0",
           "#43d7a4",
           "#4095db",
           "#facc5f",
           "#cae279",
           "#7db64f",
           "#f08083",
           "#5bcdf2",
           "#f099dc",
           "#965858"
          ],
          "font": {
           "color": "#05192D",
           "family": "Studio-Feixen-Sans, Arial, sans-serif"
          },
          "geo": {
           "bgcolor": "white",
           "lakecolor": "white",
           "landcolor": "white",
           "showlakes": true,
           "showland": true,
           "subunitcolor": "#C8D4E3"
          },
          "hoverlabel": {
           "align": "left",
           "font": {
            "family": "Studio-Feixen-Sans, Arial, sans-serif"
           }
          },
          "hovermode": "closest",
          "mapbox": {
           "style": "light"
          },
          "paper_bgcolor": "white",
          "plot_bgcolor": "white",
          "polar": {
           "angularaxis": {
            "gridcolor": "#EBF0F8",
            "linecolor": "#EBF0F8",
            "ticks": ""
           },
           "bgcolor": "white",
           "radialaxis": {
            "gridcolor": "#EBF0F8",
            "linecolor": "#EBF0F8",
            "ticks": ""
           }
          },
          "scene": {
           "xaxis": {
            "backgroundcolor": "white",
            "gridcolor": "#DFE8F3",
            "gridwidth": 2,
            "linecolor": "#EBF0F8",
            "showbackground": true,
            "ticks": "",
            "zerolinecolor": "#EBF0F8"
           },
           "yaxis": {
            "backgroundcolor": "white",
            "gridcolor": "#DFE8F3",
            "gridwidth": 2,
            "linecolor": "#EBF0F8",
            "showbackground": true,
            "ticks": "",
            "zerolinecolor": "#EBF0F8"
           },
           "zaxis": {
            "backgroundcolor": "white",
            "gridcolor": "#DFE8F3",
            "gridwidth": 2,
            "linecolor": "#EBF0F8",
            "showbackground": true,
            "ticks": "",
            "zerolinecolor": "#EBF0F8"
           }
          },
          "shapedefaults": {
           "line": {
            "color": "#2a3f5f"
           }
          },
          "ternary": {
           "aaxis": {
            "gridcolor": "#DFE8F3",
            "linecolor": "#A2B1C6",
            "ticks": ""
           },
           "baxis": {
            "gridcolor": "#DFE8F3",
            "linecolor": "#A2B1C6",
            "ticks": ""
           },
           "bgcolor": "white",
           "caxis": {
            "gridcolor": "#DFE8F3",
            "linecolor": "#A2B1C6",
            "ticks": ""
           }
          },
          "title": {
           "x": 0.05
          },
          "xaxis": {
           "automargin": true,
           "gridcolor": "#EBF0F8",
           "linecolor": "#EBF0F8",
           "ticks": "",
           "title": {
            "standoff": 15
           },
           "zerolinecolor": "#EBF0F8",
           "zerolinewidth": 2
          },
          "yaxis": {
           "automargin": true,
           "gridcolor": "#EBF0F8",
           "linecolor": "#EBF0F8",
           "ticks": "",
           "title": {
            "standoff": 15
           },
           "zerolinecolor": "#EBF0F8",
           "zerolinewidth": 2
          }
         }
        },
        "title": {
         "text": "Return on Equity (ROE) Comparison"
        },
        "xaxis": {
         "anchor": "y",
         "domain": [
          0,
          1
         ],
         "title": {
          "text": "Company"
         }
        },
        "yaxis": {
         "anchor": "x",
         "domain": [
          0,
          1
         ],
         "title": {
          "text": "ROE (%)"
         }
        }
       }
      }
     },
     "metadata": {},
     "output_type": "display_data"
    }
   ],
   "source": [
    "# Return on Equity (ROE) Comparison\n",
    "fig = px.bar(financial, x = 'Company', y = 'ROE', title = \"Return on Equity (ROE) Comparison\", labels = {'ROE': 'ROE (%)', 'Company': 'Company'})\n",
    "fig.update_layout(yaxis_title = \"ROE (%)\", xaxis_title = \"Company\")\n",
    "fig.show()"
   ]
  },
  {
   "cell_type": "code",
   "execution_count": null,
   "id": "a2be9df5-577c-4146-8095-aa38c67628d0",
   "metadata": {},
   "outputs": [],
   "source": [
    "# Prepare stock price trends data\n",
    "stock_price_trends = pd.DataFrame()\n",
    "\n",
    "for ticker in tickers:\n",
    "    stock_price_trends[ticker] = market_data['Adj Close'][ticker]\n",
    "\n",
    "stock_price_trends.index = market_data.index"
   ]
  },
  {
   "cell_type": "code",
   "execution_count": 27,
   "id": "42a0ad06-b459-4443-b684-356739a42b0d",
   "metadata": {
    "executionCancelledAt": null,
    "executionTime": 56,
    "lastExecutedAt": 1735830612712,
    "lastExecutedByKernel": "df19b915-b282-4fb1-9610-184657d2c393",
    "lastScheduledRunId": null,
    "lastSuccessfullyExecutedCode": "# Risk Assessment\n\n# Import necessary libraries\nimport pandas as pd\n\n# Calculate daily returns for each stock\ndaily_returns = stock_price_trends.pct_change().dropna()\n\n# Calculate the mean and standard deviation of daily returns\nmean_returns = daily_returns.mean()\nstd_dev_returns = daily_returns.std()\n\n# Calculate the Sharpe Ratio (assuming risk-free rate is 0 for simplicity)\nsharpe_ratio = mean_returns / std_dev_returns\n\n# Calculate the correlation matrix to understand the relationship between the stocks\ncorrelation_matrix = daily_returns.corr()\n\n# Data\nrisk_assessment = {\n    \"Mean Returns\": mean_returns,\n    \"Standard Deviation of Returns\": std_dev_returns,\n    \"Sharpe Ratio\": sharpe_ratio,\n    \"Correlation Matrix\": correlation_matrix\n}\n\n# Display the risk assessment\nrisk_assessment",
    "outputsMetadata": {
     "0": {
      "height": 500,
      "tableState": {
       "quickFilterText": ""
      },
      "type": "dataFrame"
     }
    }
   },
   "outputs": [
    {
     "data": {
      "text/plain": [
       "{'Mean Returns': Ticker\n",
       " AAPL     0.001164\n",
       " GOOGL    0.001021\n",
       " MSFT     0.000989\n",
       " dtype: float64,\n",
       " 'Standard Deviation of Returns': Ticker\n",
       " AAPL     0.019958\n",
       " GOOGL    0.020464\n",
       " MSFT     0.019205\n",
       " dtype: float64,\n",
       " 'Sharpe Ratio': Ticker\n",
       " AAPL     0.058320\n",
       " GOOGL    0.049893\n",
       " MSFT     0.051492\n",
       " dtype: float64,\n",
       " 'Correlation Matrix': Ticker      AAPL     GOOGL      MSFT\n",
       " Ticker                              \n",
       " AAPL    1.000000  0.648662  0.747765\n",
       " GOOGL   0.648662  1.000000  0.746335\n",
       " MSFT    0.747765  0.746335  1.000000}"
      ]
     },
     "execution_count": 27,
     "metadata": {},
     "output_type": "execute_result"
    }
   ],
   "source": [
    "# Risk Assessment\n",
    "\n",
    "# Import necessary libraries\n",
    "import pandas as pd\n",
    "\n",
    "# Calculate daily returns for each stock\n",
    "daily_returns = stock_price_trends.pct_change().dropna()\n",
    "\n",
    "# Calculate the mean and standard deviation of daily returns\n",
    "mean_returns = daily_returns.mean()\n",
    "std_dev_returns = daily_returns.std()\n",
    "\n",
    "# Calculate the Sharpe Ratio (assuming risk-free rate is 0 for simplicity)\n",
    "sharpe_ratio = mean_returns / std_dev_returns\n",
    "\n",
    "# Calculate the correlation matrix to understand the relationship between the stocks\n",
    "correlation_matrix = daily_returns.corr()\n",
    "\n",
    "# Data\n",
    "risk_assessment = {\n",
    "    \"Mean Returns\": mean_returns,\n",
    "    \"Standard Deviation of Returns\": std_dev_returns,\n",
    "    \"Sharpe Ratio\": sharpe_ratio,\n",
    "    \"Correlation Matrix\": correlation_matrix\n",
    "}\n",
    "\n",
    "# Display the risk assessment\n",
    "risk_assessment"
   ]
  },
  {
   "cell_type": "code",
   "execution_count": 11,
   "id": "023a808f-b321-4f04-8463-e6286dd2b60d",
   "metadata": {
    "executionCancelledAt": null,
    "executionTime": 435,
    "lastExecutedAt": 1735829078986,
    "lastExecutedByKernel": "df19b915-b282-4fb1-9610-184657d2c393",
    "lastScheduledRunId": null,
    "lastSuccessfullyExecutedCode": "# Visualize correlation heatmap\nplt.figure(figsize=(10, 8))\nplt.imshow(correlation_matrix, cmap='coolwarm', aspect='auto')\nplt.colorbar()\nplt.xticks(range(len(correlation_matrix.columns)), correlation_matrix.columns, rotation=45)\nplt.yticks(range(len(correlation_matrix.columns)), correlation_matrix.columns)\nplt.title('Correlation Heatmap of Tech Stocks')\nplt.tight_layout()\nplt.show()"
   },
   "outputs": [
    {
     "data": {
      "image/png": "[encoded data removed]",
      "text/plain": [
       "<Figure size 1000x800 with 2 Axes>"
      ]
     },
     "metadata": {
      "image/png": {
       "height": 789,
       "width": 926
      }
     },
     "output_type": "display_data"
    }
   ],
   "source": [
    "# Visualize correlation heatmap\n",
    "plt.figure(figsize=(10, 8))\n",
    "plt.imshow(correlation_matrix, cmap='coolwarm', aspect='auto')\n",
    "plt.colorbar()\n",
    "plt.xticks(range(len(correlation_matrix.columns)), correlation_matrix.columns, rotation=45)\n",
    "plt.yticks(range(len(correlation_matrix.columns)), correlation_matrix.columns)\n",
    "plt.title('Correlation Heatmap of Tech Stocks')\n",
    "plt.tight_layout()\n",
    "plt.show()"
   ]
  },
  {
   "cell_type": "markdown",
   "id": "95aaadf3-b7b9-4350-99dd-22483a27209e",
   "metadata": {},
   "source": [
    "## Risk Assessment Interpretation for Investment\n",
    "\n",
    "### Risk Metrics Overview\n",
    "\n",
    "| Ticker | Mean Return | Volatility | Beta    | Risk Level | Investment Signal |\n",
    "|--------|-------------|------------|---------|------------|-------------------|\n",
    "| AAPL   | 0.001164    | 0.019958   | 1.000000| Low        | Hold              |\n",
    "| GOOGL  | 0.001021    | 0.020464   | 0.665112| High       | Hold              |\n",
    "| MSFT   | 0.000989    | 0.019205   | 0.719532| Low        | Hold              |\n",
    "\n",
    "### Interpretation\n",
    "\n",
    "#### Apple Inc. (AAPL)\n",
    "- **Mean Return**: 0.001164\n",
    "- **Volatility**: 0.019958\n",
    "- **Beta**: 1.000000\n",
    "- **Risk Level**: Low\n",
    "- **Investment Signal**: Hold\n",
    "\n",
    "Apple shows a relatively low volatility and a beta of 1, indicating that its stock price moves in line with the market. The mean return is the highest among the three companies, suggesting a stable performance. The low risk level and the \"Hold\" signal imply that Apple is a relatively safe investment with steady returns.\n",
    "\n",
    "#### Alphabet Inc. (GOOGL)\n",
    "- **Mean Return**: 0.001021\n",
    "- **Volatility**: 0.020464\n",
    "- **Beta**: 0.665112\n",
    "- **Risk Level**: High\n",
    "- **Investment Signal**: Hold\n",
    "\n",
    "Google has the highest volatility and a beta less than 1, indicating that it is less volatile than the market. Despite the high risk level, the mean return is close to that of Apple. The \"Hold\" signal suggests that while there is higher risk, the potential returns justify maintaining the investment.\n",
    "\n",
    "#### Microsoft Corp. (MSFT)\n",
    "- **Mean Return**: 0.000989\n",
    "- **Volatility**: 0.019205\n",
    "- **Beta**: 0.719532\n",
    "- **Risk Level**: Low\n",
    "- **Investment Signal**: Hold\n",
    "\n",
    "Microsoft has the lowest mean return and volatility among the three companies. The beta is less than 1, indicating lower market volatility. The low risk level and \"Hold\" signal suggest that Microsoft is a stable investment with minimal risk.\n",
    "\n",
    "### Financial Metrics\n",
    "\n",
    "| Company | Revenue       | ROE       | Debt-to-Equity |\n",
    "|---------|---------------|-----------|----------------|\n",
    "| AAPL    | 3.91035E+11   | 1.5741299 | 209.059        |\n",
    "| GOOGL   | 3.39859E+11   | 0.32101002| 9.324          |\n",
    "| MSFT    | 2.5419E+11    | 0.35604   | 33.657         |\n",
    "\n",
    "### Interpretation\n",
    "\n",
    "- **Apple (AAPL)**: Highest revenue and ROE, but also the highest debt-to-equity ratio, indicating significant leverage.\n",
    "- **Google (GOOGL)**: High revenue with a moderate ROE and the lowest debt-to-equity ratio, suggesting a strong balance sheet.\n",
    "- **Microsoft (MSFT)**: Lowest revenue among the three, moderate ROE, and a low debt-to-equity ratio, indicating a balanced financial position.\n",
    "\n",
    "### Correlation Matrix\n",
    "\n",
    "| Ticker | AAPL          | GOOGL         | MSFT          |\n",
    "|--------|---------------|---------------|---------------|\n",
    "| AAPL   | 1             | 0.648661545   | 0.747764837   |\n",
    "| GOOGL  | 0.648661545   | 1             | 0.746335341   |\n",
    "| MSFT   | 0.747764837   | 0.746335341   | 1             |\n",
    "\n",
    "### Interpretation\n",
    "\n",
    "The correlation matrix shows that all three companies have a positive correlation with each other, with the highest correlation between AAPL and MSFT. This suggests that the stock prices of these companies tend to move in the same direction, which is typical for companies within the same sector.\n",
    "\n",
    "### Conclusion\n",
    "\n",
    "Based on the risk metrics, financial metrics, and correlation matrix, all three companies show strong performance with varying levels of risk and return. The \"Hold\" investment signal across the board suggests that these stocks are stable investments, with Apple and Microsoft being lower risk compared to Google. Investors should consider their risk tolerance and investment goals when making decisions."
   ]
  },
  {
   "cell_type": "markdown",
   "id": "b1686d64-7c22-4e88-ae02-3defed708438",
   "metadata": {},
   "source": [
    "## Risk Assessment Based on Sharpe Ratio\n",
    "\n",
    "The Sharpe Ratio is a measure used to evaluate the risk-adjusted return of an investment. It is calculated by subtracting the risk-free rate from the return of the investment and then dividing this result by the standard deviation of the investment's excess return. A higher Sharpe Ratio indicates a more attractive risk-adjusted return.\n",
    "\n",
    "### Sharpe Ratios for the Companies:\n",
    "- **AAPL (Apple Inc.)**: 0.058320\n",
    "- **GOOGL (Alphabet Inc.)**: 0.049893\n",
    "- **MSFT (Microsoft Corporation)**: 0.051492\n",
    "\n",
    "### Interpretation:\n",
    "\n",
    "1. **Apple Inc. (AAPL)**:\n",
    "   - **Sharpe Ratio**: 0.058320\n",
    "   - **Analysis**: Apple has the highest Sharpe Ratio among the three companies. This suggests that, on a risk-adjusted basis, Apple provides the best return. Investors seeking to maximize their returns relative to the risk they are taking might find Apple to be the most attractive investment among the three.\n",
    "\n",
    "2. **Alphabet Inc. (GOOGL)**:\n",
    "   - **Sharpe Ratio**: 0.049893\n",
    "   - **Analysis**: Alphabet has the lowest Sharpe Ratio of the three companies. This indicates that, relative to the risk taken, Alphabet provides the least attractive return. Investors might consider this when evaluating the risk-return profile of their portfolio.\n",
    "\n",
    "3. **Microsoft Corporation (MSFT)**:\n",
    "   - **Sharpe Ratio**: 0.051492\n",
    "   - **Analysis**: Microsoft has a Sharpe Ratio that is higher than Alphabet's but lower than Apple's. This places Microsoft in the middle in terms of risk-adjusted returns. Investors might view Microsoft as a balanced option, offering a reasonable return for the level of risk taken.\n",
    "\n",
    "### Conclusion:\n",
    "Based on the Sharpe Ratios, Apple Inc. appears to offer the best risk-adjusted returns, followed by Microsoft Corporation, and then Alphabet Inc. Investors should consider these ratios in conjunction with other financial metrics and their individual risk tolerance when making investment decisions."
   ]
  }
 ],
 "metadata": {
  "colab": {
   "name": "Welcome to DataCamp Workspaces.ipynb",
   "provenance": []
  },
  "kernelspec": {
   "display_name": "Python 3 (ipykernel)",
   "language": "python",
   "name": "python3"
  },
  "language_info": {
   "codemirror_mode": {
    "name": "ipython",
    "version": 3
   },
   "file_extension": ".py",
   "mimetype": "text/x-python",
   "name": "python",
   "nbconvert_exporter": "python",
   "pygments_lexer": "ipython3",
   "version": "3.9.16"
  }
 },
 "nbformat": 4,
 "nbformat_minor": 5
}
